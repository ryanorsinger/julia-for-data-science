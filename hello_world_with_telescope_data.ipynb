{
 "cells": [
  {
   "cell_type": "code",
   "execution_count": 39,
   "metadata": {},
   "outputs": [
    {
     "name": "stdout",
     "output_type": "stream",
     "text": [
      "Hello World!\n",
      "Currently, this notebook is running in the directory /Users/xronos/julia-for-data-science\n"
     ]
    }
   ],
   "source": [
    "println(\"Hello World!\")\n",
    "\n",
    "# Assign the current working directory path to a variable\n",
    "current_directory = pwd()\n",
    "\n",
    "# String concatenation is accomplished using commas\n",
    "println(\"Currently, this notebook is running in the directory \", current_directory)"
   ]
  },
  {
   "cell_type": "code",
   "execution_count": 40,
   "metadata": {},
   "outputs": [],
   "source": [
    "# To install a package, run the following line in this notebook or from the Julia REPL.\n",
    "# import Pkg; Pkg.add(\"CSV\")\n",
    "\n",
    "# If the CSV package is already installed, this is the only line necessary to use it in a program.\n",
    "using CSV "
   ]
  },
  {
   "cell_type": "code",
   "execution_count": 41,
   "metadata": {},
   "outputs": [
    {
     "name": "stdout",
     "output_type": "stream",
     "text": [
      "CSV.File(\"./data/Magic/magic04.csv\"):\n",
      "Size: 19019 x 11\n",
      "Tables.Schema:\n",
      " Symbol(\"28.7967\")  Float64\n",
      " Symbol(\"16.0021\")  Float64\n",
      " Symbol(\"2.6449\")   Float64\n",
      " Symbol(\"0.3918\")   Float64\n",
      " Symbol(\"0.1982\")   Float64\n",
      " Symbol(\"27.7004\")  Float64\n",
      " Symbol(\"22.011\")   Float64\n",
      " Symbol(\"-8.2027\")  Float64\n",
      " Symbol(\"40.092\")   Float64\n",
      " Symbol(\"81.8828\")  Float64\n",
      " :g                 String "
     ]
    }
   ],
   "source": [
    "# Let's pull in some data for analysis\n",
    "# This file is from https://archive.ics.uci.edu/ml/datasets/magic+gamma+telescope\n",
    "data = CSV.File(\"./data/Magic/magic04.csv\") \n",
    "\n",
    "print(data)"
   ]
  },
  {
   "cell_type": "markdown",
   "metadata": {},
   "source": [
    "We'll use the `magic` dataset and classify the observed radiation of the telescope as `gamma` or `hadron`."
   ]
  },
  {
   "cell_type": "markdown",
   "metadata": {},
   "source": [
    "## k-Nearest Neighbors Classification\n",
    "The diagram of the kNN algorithm is below."
   ]
  },
  {
   "cell_type": "markdown",
   "metadata": {},
   "source": [
    "<img src=\"./kNN-diagram.jpeg\" alt=\"kNN diagram\">"
   ]
  },
  {
   "cell_type": "code",
   "execution_count": 42,
   "metadata": {},
   "outputs": [
    {
     "data": {
      "text/plain": [
       "distance (generic function with 3 methods)"
      ]
     },
     "execution_count": 42,
     "metadata": {},
     "output_type": "execute_result"
    }
   ],
   "source": [
    "# Distance should take in two dimensional vectors and return a single number (float).\n",
    "# The commented-out implementation specifies input data types and the return data type\n",
    "# function distance(x::Array{Float64, 1}, y::Array{Float64, 1})::Float64\n",
    "#     distance = 0\n",
    "#     for in in 1:length(x)\n",
    "#         dist += (x[i] - y[i])^2\n",
    "#     end\n",
    "#     distance = sqrt(distance)\n",
    "#     return distance\n",
    "# end\n",
    "\n",
    "function distance(x, y)\n",
    "    distance = 0\n",
    "    for i in 1:length(x)\n",
    "        distance += (x[i] -y[i])^2\n",
    "    end\n",
    "    distance = sqrt(distance)\n",
    "    return distance\n",
    "end"
   ]
  },
  {
   "cell_type": "code",
   "execution_count": 43,
   "metadata": {},
   "outputs": [
    {
     "data": {
      "text/plain": [
       "classify (generic function with 1 method)"
      ]
     },
     "execution_count": 43,
     "metadata": {},
     "output_type": "execute_result"
    }
   ],
   "source": [
    "# Define the implementation of the classify function\n",
    "function classify(distances, labels)\n",
    "    # Find all of the distinct classes\n",
    "    class = unique(labels)\n",
    "\n",
    "    # Determine the number of classees\n",
    "    number_of_classes = length(class) \n",
    "    \n",
    "    # Initialize the vector of indexes\n",
    "    indexes = Array(Int, 0)\n",
    "    \n",
    "    # Specify the largest possible number that this vector can have\n",
    "    \n",
    "    M = maxtype(typeof(distances[1]))\n",
    "    class_count = Array(Int, nc)\n",
    "    for i in 1:k\n",
    "        indexes[i] = inmin(distances)\n",
    "        \n",
    "        # make sure this element is not selected again\n",
    "        distances[indexes[i]] = M\n",
    "    end\n",
    "    \n",
    "    klabels = labe3ls[indexes]\n",
    "    for i in 1:nc\n",
    "        for j in 1:k\n",
    "            if klabels[j] == class[i]\n",
    "                class_count[i] += 1\n",
    "                break\n",
    "            end\n",
    "        end\n",
    "    end\n",
    "    index = inmax(class_count)\n",
    "    return class[index]\n",
    "end\n"
   ]
  },
  {
   "cell_type": "code",
   "execution_count": 50,
   "metadata": {},
   "outputs": [
    {
     "data": {
      "text/plain": [
       "apply_kNN (generic function with 2 methods)"
      ]
     },
     "execution_count": 50,
     "metadata": {},
     "output_type": "execute_result"
    }
   ],
   "source": [
    "# Another auxiliary function of the implementation of the kNN algorithm. This one performs classification of a point based on its distances from the known points of the dataset.\n",
    "function apply_kNN(X, Y, k)\n",
    "\n",
    "    N = size(X, 1) # Number of known datapoints\n",
    "    n = size(Y, 1) # number of datapoints to classify\n",
    "    D = Array(Float, N) # Initialize the distance vector\n",
    "    z = Array(typeof(x[1]), n) # Initialize the labels vector (output)\n",
    "    for i in 1:n\n",
    "        for j in 1:N\n",
    "            D[j] = distance(X[j,:], Y[i,:])\n",
    "        end\n",
    "        z[i] = classify(D, x, k)\n",
    "    end\n",
    "    return z\n",
    "end\n",
    "    "
   ]
  },
  {
   "cell_type": "code",
   "execution_count": 51,
   "metadata": {},
   "outputs": [
    {
     "name": "stdout",
     "output_type": "stream",
     "text": [
      "CSV.File(\"./data/Magic/magic04.csv\"):\n",
      "Size: 19019 x 11\n",
      "Tables.Schema:\n",
      " Symbol(\"28.7967\")  Float64\n",
      " Symbol(\"16.0021\")  Float64\n",
      " Symbol(\"2.6449\")   Float64\n",
      " Symbol(\"0.3918\")   Float64\n",
      " Symbol(\"0.1982\")   Float64\n",
      " Symbol(\"27.7004\")  Float64\n",
      " Symbol(\"22.011\")   Float64\n",
      " Symbol(\"-8.2027\")  Float64\n",
      " Symbol(\"40.092\")   Float64\n",
      " Symbol(\"81.8828\")  Float64\n",
      " :g                 String "
     ]
    }
   ],
   "source": [
    "print(data)"
   ]
  },
  {
   "cell_type": "code",
   "execution_count": 55,
   "metadata": {},
   "outputs": [
    {
     "ename": "MethodError",
     "evalue": "MethodError: no method matching lastindex(::CSV.File)\nClosest candidates are:\n  lastindex(!Matched::Core.SimpleVector) at essentials.jl:567\n  lastindex(!Matched::Cmd) at process.jl:940\n  lastindex(!Matched::Base64.Buffer) at /Users/julia/buildbot/worker/package_macos64/build/usr/share/julia/stdlib/v1.1/Base64/src/buffer.jl:19\n  ...",
     "output_type": "error",
     "traceback": [
      "MethodError: no method matching lastindex(::CSV.File)\nClosest candidates are:\n  lastindex(!Matched::Core.SimpleVector) at essentials.jl:567\n  lastindex(!Matched::Cmd) at process.jl:940\n  lastindex(!Matched::Base64.Buffer) at /Users/julia/buildbot/worker/package_macos64/build/usr/share/julia/stdlib/v1.1/Base64/src/buffer.jl:19\n  ...",
      "",
      "Stacktrace:",
      " [1] top-level scope at In[55]:1"
     ]
    }
   ],
   "source": [
    "# take all the columns of the data matrix, apart from the last one and convert everything into a Float. Result = 10-dim Array of Float numbers\n",
    "I = map(Float64, data[2:(end-1)])"
   ]
  },
  {
   "cell_type": "code",
   "execution_count": null,
   "metadata": {},
   "outputs": [],
   "source": [
    "# Assign only the last column of the data matrix. Result = 1-dim Array\n",
    "O = data[:, end]"
   ]
  }
 ],
 "metadata": {
  "kernelspec": {
   "display_name": "Julia 1.1.1",
   "language": "julia",
   "name": "julia-1.1"
  },
  "language_info": {
   "file_extension": ".jl",
   "mimetype": "application/julia",
   "name": "julia",
   "version": "1.1.1"
  }
 },
 "nbformat": 4,
 "nbformat_minor": 2
}
