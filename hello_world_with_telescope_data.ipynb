{
 "cells": [
  {
   "cell_type": "code",
   "execution_count": 1,
   "metadata": {},
   "outputs": [
    {
     "name": "stdout",
     "output_type": "stream",
     "text": [
      "Hello World!\n",
      "Currently, this notebook is running in the directory /Users/xronos/julia\n"
     ]
    }
   ],
   "source": [
    "println(\"Hello World!\")\n",
    "\n",
    "# Assign the current working directory path to a variable\n",
    "current_directory = pwd()\n",
    "\n",
    "# String concatenation is accomplished using commas\n",
    "println(\"Currently, this notebook is running in the directory \", current_directory)"
   ]
  },
  {
   "cell_type": "code",
   "execution_count": 5,
   "metadata": {},
   "outputs": [],
   "source": [
    "# To install a package, run the following line in this notebook or from the Julia REPL.\n",
    "# import Pkg; Pkg.add(\"CSV\")\n",
    "\n",
    "# If the CSV package is already installed, this is the only line necessary to use it in a program.\n",
    "using CSV "
   ]
  },
  {
   "cell_type": "code",
   "execution_count": 13,
   "metadata": {},
   "outputs": [
    {
     "name": "stdout",
     "output_type": "stream",
     "text": [
      "CSV.File(\"./data/Magic/magic04.csv\"):\n",
      "Size: 19019 x 11\n",
      "Tables.Schema:\n",
      " Symbol(\"28.7967\")  Float64\n",
      " Symbol(\"16.0021\")  Float64\n",
      " Symbol(\"2.6449\")   Float64\n",
      " Symbol(\"0.3918\")   Float64\n",
      " Symbol(\"0.1982\")   Float64\n",
      " Symbol(\"27.7004\")  Float64\n",
      " Symbol(\"22.011\")   Float64\n",
      " Symbol(\"-8.2027\")  Float64\n",
      " Symbol(\"40.092\")   Float64\n",
      " Symbol(\"81.8828\")  Float64\n",
      " :g                 String "
     ]
    }
   ],
   "source": [
    "# Let's pull in some data\n",
    "# This file is from https://archive.ics.uci.edu/ml/datasets/magic+gamma+telescope\n",
    "data = CSV.File(\"./data/Magic/magic04.csv\") \n",
    "\n",
    "print(data)"
   ]
  },
  {
   "cell_type": "markdown",
   "metadata": {},
   "source": [
    "We'll use the `magic` dataset and classify the observed radiation of the telescope as `gamma` or `hadron`."
   ]
  },
  {
   "cell_type": "markdown",
   "metadata": {},
   "source": [
    "## k-Nearest Neighbors Classification\n",
    "The diagram of the kNN algorithm is below."
   ]
  },
  {
   "cell_type": "markdown",
   "metadata": {},
   "source": [
    "<img src=\"./kNN-diagram.jpeg\" alt=\"kNN diagram\">"
   ]
  },
  {
   "cell_type": "markdown",
   "metadata": {},
   "source": []
  }
 ],
 "metadata": {
  "kernelspec": {
   "display_name": "Julia 1.1.1",
   "language": "julia",
   "name": "julia-1.1"
  },
  "language_info": {
   "file_extension": ".jl",
   "mimetype": "application/julia",
   "name": "julia",
   "version": "1.1.1"
  }
 },
 "nbformat": 4,
 "nbformat_minor": 2
}
