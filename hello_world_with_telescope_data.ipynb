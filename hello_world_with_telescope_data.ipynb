{
 "cells": [
  {
   "cell_type": "code",
   "execution_count": 39,
   "metadata": {},
   "outputs": [
    {
     "name": "stdout",
     "output_type": "stream",
     "text": [
      "Hello World!\n",
      "Currently, this notebook is running in the directory /Users/xronos/julia-for-data-science\n"
     ]
    }
   ],
   "source": [
    "println(\"Hello World!\")\n",
    "\n",
    "# Assign the current working directory path to a variable\n",
    "current_directory = pwd()\n",
    "\n",
    "# String concatenation is accomplished using commas\n",
    "println(\"Currently, this notebook is running in the directory \", current_directory)"
   ]
  },
  {
   "cell_type": "code",
   "execution_count": 40,
   "metadata": {},
   "outputs": [],
   "source": [
    "# To install a package, run the following line in this notebook or from the Julia REPL.\n",
    "# import Pkg; Pkg.add(\"CSV\")\n",
    "\n",
    "# If the CSV package is already installed, this is the only line necessary to use it in a program.\n",
    "using CSV "
   ]
  },
  {
   "cell_type": "code",
   "execution_count": 41,
   "metadata": {},
   "outputs": [
    {
     "name": "stdout",
     "output_type": "stream",
     "text": [
      "CSV.File(\"./data/Magic/magic04.csv\"):\n",
      "Size: 19019 x 11\n",
      "Tables.Schema:\n",
      " Symbol(\"28.7967\")  Float64\n",
      " Symbol(\"16.0021\")  Float64\n",
      " Symbol(\"2.6449\")   Float64\n",
      " Symbol(\"0.3918\")   Float64\n",
      " Symbol(\"0.1982\")   Float64\n",
      " Symbol(\"27.7004\")  Float64\n",
      " Symbol(\"22.011\")   Float64\n",
      " Symbol(\"-8.2027\")  Float64\n",
      " Symbol(\"40.092\")   Float64\n",
      " Symbol(\"81.8828\")  Float64\n",
      " :g                 String "
     ]
    }
   ],
   "source": [
    "# Let's pull in some data for analysis\n",
    "# This file is from https://archive.ics.uci.edu/ml/datasets/magic+gamma+telescope\n",
    "data = CSV.File(\"./data/Magic/magic04.csv\") \n",
    "\n",
    "print(data)"
   ]
  },
  {
   "cell_type": "markdown",
   "metadata": {},
   "source": [
    "We'll use the `magic` dataset and classify the observed radiation of the telescope as `gamma` or `hadron`."
   ]
  },
  {
   "cell_type": "markdown",
   "metadata": {},
   "source": [
    "## k-Nearest Neighbors Classification\n",
    "The diagram of the kNN algorithm is below."
   ]
  },
  {
   "cell_type": "markdown",
   "metadata": {},
   "source": [
    "<img src=\"./kNN-diagram.jpeg\" alt=\"kNN diagram\">"
   ]
  },
  {
   "cell_type": "code",
   "execution_count": 42,
   "metadata": {},
   "outputs": [
    {
     "data": {
      "text/plain": [
       "distance (generic function with 3 methods)"
      ]
     },
     "execution_count": 42,
     "metadata": {},
     "output_type": "execute_result"
    }
   ],
   "source": [
    "# Distance should take in two dimensional vectors and return a single number (float).\n",
    "# The commented-out implementation specifies input data types and the return data type\n",
    "# function distance(x::Array{Float64, 1}, y::Array{Float64, 1})::Float64\n",
    "#     distance = 0\n",
    "#     for in in 1:length(x)\n",
    "#         dist += (x[i] - y[i])^2\n",
    "#     end\n",
    "#     distance = sqrt(distance)\n",
    "#     return distance\n",
    "# end\n",
    "\n",
    "function distance(x, y)\n",
    "    distance = 0\n",
    "    for i in 1:length(x)\n",
    "        distance += (x[i] -y[i])^2\n",
    "    end\n",
    "    distance = sqrt(distance)\n",
    "    return distance\n",
    "end"
   ]
  },
  {
   "cell_type": "code",
   "execution_count": 43,
   "metadata": {},
   "outputs": [
    {
     "data": {
      "text/plain": [
       "classify (generic function with 1 method)"
      ]
     },
     "execution_count": 43,
     "metadata": {},
     "output_type": "execute_result"
    }
   ],
   "source": [
    "# Define the implementation of the classify function\n",
    "function classify(distances, labels)\n",
    "    # Find all of the distinct classes\n",
    "    class = unique(labels)\n",
    "\n",
    "    # Determine the number of classees\n",
    "    number_of_classes = length(class) \n",
    "    \n",
    "    # Initialize the vector of indexes\n",
    "    indexes = Array(Int, 0)\n",
    "    \n",
    "    # Specify the largest possible number that this vector can have\n",
    "    \n",
    "    M = maxtype(typeof(distances[1]))\n",
    "    class_count = Array(Int, nc)\n",
    "    for i in 1:k\n",
    "        indexes[i] = inmin(distances)\n",
    "        \n",
    "        # make sure this element is not selected again\n",
    "        distances[indexes[i]] = M\n",
    "    end\n",
    "    \n",
    "    klabels = labe3ls[indexes]\n",
    "    for i in 1:nc\n",
    "        for j in 1:k\n",
    "            if klabels[j] == class[i]\n",
    "                class_count[i] += 1\n",
    "                break\n",
    "            end\n",
    "        end\n",
    "    end\n",
    "    index = inmax(class_count)\n",
    "    return class[index]\n",
    "end\n"
   ]
  },
  {
   "cell_type": "code",
   "execution_count": 50,
   "metadata": {},
   "outputs": [
    {
     "data": {
      "text/plain": [
       "apply_kNN (generic function with 2 methods)"
      ]
     },
     "execution_count": 50,
     "metadata": {},
     "output_type": "execute_result"
    }
   ],
   "source": [
    "# Another auxiliary function of the implementation of the kNN algorithm. This one performs classification of a point based on its distances from the known points of the dataset.\n",
    "function apply_kNN(X, Y, k)\n",
    "\n",
    "    N = size(X, 1) # Number of known datapoints\n",
    "    n = size(Y, 1) # number of datapoints to classify\n",
    "    D = Array(Float, N) # Initialize the distance vector\n",
    "    z = Array(typeof(x[1]), n) # Initialize the labels vector (output)\n",
    "    for i in 1:n\n",
    "        for j in 1:N\n",
    "            D[j] = distance(X[j,:], Y[i,:])\n",
    "        end\n",
    "        z[i] = classify(D, x, k)\n",
    "    end\n",
    "    return z\n",
    "end\n",
    "    "
   ]
  },
  {
   "cell_type": "code",
   "execution_count": 69,
   "metadata": {},
   "outputs": [
    {
     "name": "stdout",
     "output_type": "stream",
     "text": [
      "CSV.File(\"./data/Magic/magic04.csv\"):\n",
      "Size: 19019 x 11\n",
      "Tables.Schema:\n",
      " Symbol(\"28.7967\")  Float64\n",
      " Symbol(\"16.0021\")  Float64\n",
      " Symbol(\"2.6449\")   Float64\n",
      " Symbol(\"0.3918\")   Float64\n",
      " Symbol(\"0.1982\")   Float64\n",
      " Symbol(\"27.7004\")  Float64\n",
      " Symbol(\"22.011\")   Float64\n",
      " Symbol(\"-8.2027\")  Float64\n",
      " Symbol(\"40.092\")   Float64\n",
      " Symbol(\"81.8828\")  Float64\n",
      " :g                 String "
     ]
    }
   ],
   "source": [
    "print(data)"
   ]
  },
  {
   "cell_type": "code",
   "execution_count": 91,
   "metadata": {},
   "outputs": [
    {
     "data": {
      "text/html": [
       "<table class=\"data-frame\"><thead><tr><th></th><th>28.7967</th><th>16.0021</th><th>2.6449</th><th>0.3918</th><th>0.1982</th><th>27.7004</th><th>22.011</th><th>-8.2027</th><th>40.092</th></tr><tr><th></th><th>Float64</th><th>Float64</th><th>Float64</th><th>Float64</th><th>Float64</th><th>Float64</th><th>Float64</th><th>Float64</th><th>Float64</th></tr></thead><tbody><p>19,019 rows × 11 columns (omitted printing of 2 columns)</p><tr><th>1</th><td>31.6036</td><td>11.7235</td><td>2.5185</td><td>0.5303</td><td>0.3773</td><td>26.2722</td><td>23.8238</td><td>-9.9574</td><td>6.3609</td></tr><tr><th>2</th><td>162.052</td><td>136.031</td><td>4.0612</td><td>0.0374</td><td>0.0187</td><td>116.741</td><td>-64.858</td><td>-45.216</td><td>76.96</td></tr><tr><th>3</th><td>23.8172</td><td>9.5728</td><td>2.3385</td><td>0.6147</td><td>0.3922</td><td>27.2107</td><td>-6.4633</td><td>-7.1513</td><td>10.449</td></tr><tr><th>4</th><td>75.1362</td><td>30.9205</td><td>3.1611</td><td>0.3168</td><td>0.1832</td><td>-5.5277</td><td>28.5525</td><td>21.8393</td><td>4.648</td></tr><tr><th>5</th><td>51.624</td><td>21.1502</td><td>2.9085</td><td>0.242</td><td>0.134</td><td>50.8761</td><td>43.1887</td><td>9.8145</td><td>3.613</td></tr><tr><th>6</th><td>48.2468</td><td>17.3565</td><td>3.0332</td><td>0.2529</td><td>0.1515</td><td>8.573</td><td>38.0957</td><td>10.5868</td><td>4.792</td></tr><tr><th>7</th><td>26.7897</td><td>13.7595</td><td>2.5521</td><td>0.4236</td><td>0.2174</td><td>29.6339</td><td>20.456</td><td>-2.9292</td><td>0.812</td></tr><tr><th>8</th><td>96.2327</td><td>46.5165</td><td>4.154</td><td>0.0779</td><td>0.039</td><td>110.355</td><td>85.0486</td><td>43.1844</td><td>4.854</td></tr><tr><th>9</th><td>46.7619</td><td>15.1993</td><td>2.5786</td><td>0.3377</td><td>0.1913</td><td>24.7548</td><td>43.8771</td><td>-6.6812</td><td>7.875</td></tr><tr><th>10</th><td>62.7766</td><td>29.9104</td><td>3.3331</td><td>0.2475</td><td>0.1261</td><td>-33.9065</td><td>57.5848</td><td>23.771</td><td>9.9144</td></tr><tr><th>11</th><td>18.8562</td><td>16.46</td><td>2.4385</td><td>0.5282</td><td>0.2933</td><td>25.1269</td><td>-6.5401</td><td>-16.9327</td><td>11.461</td></tr><tr><th>12</th><td>45.6321</td><td>22.71</td><td>3.0441</td><td>0.2213</td><td>0.1215</td><td>-18.3986</td><td>-20.6427</td><td>-14.3164</td><td>0.3822</td></tr><tr><th>13</th><td>33.1818</td><td>12.4655</td><td>2.4955</td><td>0.4696</td><td>0.2412</td><td>-17.0341</td><td>-22.0762</td><td>-8.1803</td><td>41.929</td></tr><tr><th>14</th><td>60.458</td><td>33.1061</td><td>3.1944</td><td>0.4679</td><td>0.2464</td><td>14.3</td><td>-33.8765</td><td>28.8315</td><td>8.292</td></tr><tr><th>15</th><td>29.4741</td><td>22.4581</td><td>2.6258</td><td>0.3077</td><td>0.174</td><td>18.1242</td><td>22.7035</td><td>13.1673</td><td>48.0364</td></tr><tr><th>16</th><td>36.1741</td><td>17.6865</td><td>2.946</td><td>0.2865</td><td>0.1591</td><td>-4.7746</td><td>-18.9697</td><td>11.3256</td><td>0.254</td></tr><tr><th>17</th><td>46.2915</td><td>16.0328</td><td>2.7756</td><td>0.3403</td><td>0.192</td><td>49.9706</td><td>33.3653</td><td>-12.7979</td><td>38.707</td></tr><tr><th>18</th><td>46.0588</td><td>18.787</td><td>3.2217</td><td>0.2431</td><td>0.1504</td><td>49.2704</td><td>34.1066</td><td>10.7955</td><td>8.686</td></tr><tr><th>19</th><td>44.7394</td><td>15.6364</td><td>2.638</td><td>0.3107</td><td>0.1715</td><td>14.043</td><td>37.2246</td><td>12.4183</td><td>3.251</td></tr><tr><th>20</th><td>91.6423</td><td>71.8818</td><td>3.8484</td><td>0.078</td><td>0.043</td><td>-56.7107</td><td>72.3016</td><td>60.019</td><td>16.622</td></tr><tr><th>21</th><td>86.0486</td><td>21.8287</td><td>3.3587</td><td>0.2369</td><td>0.1662</td><td>-58.7854</td><td>57.8212</td><td>-18.8093</td><td>2.005</td></tr><tr><th>22</th><td>90.5299</td><td>17.8721</td><td>3.033</td><td>0.2122</td><td>0.108</td><td>-57.417</td><td>84.6189</td><td>14.9662</td><td>2.039</td></tr><tr><th>23</th><td>20.3836</td><td>9.0462</td><td>2.3365</td><td>0.6359</td><td>0.3894</td><td>22.27</td><td>12.9487</td><td>-2.0403</td><td>43.0032</td></tr><tr><th>24</th><td>87.2384</td><td>27.935</td><td>2.8848</td><td>0.3155</td><td>0.1806</td><td>-18.2102</td><td>66.6867</td><td>-11.3438</td><td>4.4265</td></tr><tr><th>25</th><td>107.338</td><td>29.1356</td><td>3.5265</td><td>0.1315</td><td>0.0683</td><td>-47.1175</td><td>89.5136</td><td>-20.0479</td><td>3.312</td></tr><tr><th>26</th><td>27.2304</td><td>19.2817</td><td>2.6375</td><td>0.371</td><td>0.2039</td><td>23.0406</td><td>23.3428</td><td>9.7216</td><td>77.5379</td></tr><tr><th>27</th><td>26.7065</td><td>18.907</td><td>2.6781</td><td>0.4281</td><td>0.2214</td><td>9.1616</td><td>18.6858</td><td>-11.6888</td><td>26.881</td></tr><tr><th>28</th><td>23.5647</td><td>9.9926</td><td>2.2095</td><td>0.5679</td><td>0.3364</td><td>30.0056</td><td>-13.8665</td><td>-8.26</td><td>26.5328</td></tr><tr><th>29</th><td>34.7486</td><td>19.2286</td><td>2.5629</td><td>0.3666</td><td>0.1984</td><td>30.3637</td><td>-16.3092</td><td>14.3186</td><td>1.521</td></tr><tr><th>30</th><td>50.4829</td><td>25.9699</td><td>3.3194</td><td>0.1941</td><td>0.1133</td><td>32.1193</td><td>39.0162</td><td>-18.1839</td><td>22.471</td></tr><tr><th>&vellip;</th><td>&vellip;</td><td>&vellip;</td><td>&vellip;</td><td>&vellip;</td><td>&vellip;</td><td>&vellip;</td><td>&vellip;</td><td>&vellip;</td><td>&vellip;</td></tr></tbody></table>"
      ],
      "text/latex": [
       "\\begin{tabular}{r|cccccccccc}\n",
       "\t& 28.7967 & 16.0021 & 2.6449 & 0.3918 & 0.1982 & 27.7004 & 22.011 & -8.2027 & 40.092 & \\\\\n",
       "\t\\hline\n",
       "\t& Float64 & Float64 & Float64 & Float64 & Float64 & Float64 & Float64 & Float64 & Float64 & \\\\\n",
       "\t\\hline\n",
       "\t1 & 31.6036 & 11.7235 & 2.5185 & 0.5303 & 0.3773 & 26.2722 & 23.8238 & -9.9574 & 6.3609 & $\\dots$ \\\\\n",
       "\t2 & 162.052 & 136.031 & 4.0612 & 0.0374 & 0.0187 & 116.741 & -64.858 & -45.216 & 76.96 & $\\dots$ \\\\\n",
       "\t3 & 23.8172 & 9.5728 & 2.3385 & 0.6147 & 0.3922 & 27.2107 & -6.4633 & -7.1513 & 10.449 & $\\dots$ \\\\\n",
       "\t4 & 75.1362 & 30.9205 & 3.1611 & 0.3168 & 0.1832 & -5.5277 & 28.5525 & 21.8393 & 4.648 & $\\dots$ \\\\\n",
       "\t5 & 51.624 & 21.1502 & 2.9085 & 0.242 & 0.134 & 50.8761 & 43.1887 & 9.8145 & 3.613 & $\\dots$ \\\\\n",
       "\t6 & 48.2468 & 17.3565 & 3.0332 & 0.2529 & 0.1515 & 8.573 & 38.0957 & 10.5868 & 4.792 & $\\dots$ \\\\\n",
       "\t7 & 26.7897 & 13.7595 & 2.5521 & 0.4236 & 0.2174 & 29.6339 & 20.456 & -2.9292 & 0.812 & $\\dots$ \\\\\n",
       "\t8 & 96.2327 & 46.5165 & 4.154 & 0.0779 & 0.039 & 110.355 & 85.0486 & 43.1844 & 4.854 & $\\dots$ \\\\\n",
       "\t9 & 46.7619 & 15.1993 & 2.5786 & 0.3377 & 0.1913 & 24.7548 & 43.8771 & -6.6812 & 7.875 & $\\dots$ \\\\\n",
       "\t10 & 62.7766 & 29.9104 & 3.3331 & 0.2475 & 0.1261 & -33.9065 & 57.5848 & 23.771 & 9.9144 & $\\dots$ \\\\\n",
       "\t11 & 18.8562 & 16.46 & 2.4385 & 0.5282 & 0.2933 & 25.1269 & -6.5401 & -16.9327 & 11.461 & $\\dots$ \\\\\n",
       "\t12 & 45.6321 & 22.71 & 3.0441 & 0.2213 & 0.1215 & -18.3986 & -20.6427 & -14.3164 & 0.3822 & $\\dots$ \\\\\n",
       "\t13 & 33.1818 & 12.4655 & 2.4955 & 0.4696 & 0.2412 & -17.0341 & -22.0762 & -8.1803 & 41.929 & $\\dots$ \\\\\n",
       "\t14 & 60.458 & 33.1061 & 3.1944 & 0.4679 & 0.2464 & 14.3 & -33.8765 & 28.8315 & 8.292 & $\\dots$ \\\\\n",
       "\t15 & 29.4741 & 22.4581 & 2.6258 & 0.3077 & 0.174 & 18.1242 & 22.7035 & 13.1673 & 48.0364 & $\\dots$ \\\\\n",
       "\t16 & 36.1741 & 17.6865 & 2.946 & 0.2865 & 0.1591 & -4.7746 & -18.9697 & 11.3256 & 0.254 & $\\dots$ \\\\\n",
       "\t17 & 46.2915 & 16.0328 & 2.7756 & 0.3403 & 0.192 & 49.9706 & 33.3653 & -12.7979 & 38.707 & $\\dots$ \\\\\n",
       "\t18 & 46.0588 & 18.787 & 3.2217 & 0.2431 & 0.1504 & 49.2704 & 34.1066 & 10.7955 & 8.686 & $\\dots$ \\\\\n",
       "\t19 & 44.7394 & 15.6364 & 2.638 & 0.3107 & 0.1715 & 14.043 & 37.2246 & 12.4183 & 3.251 & $\\dots$ \\\\\n",
       "\t20 & 91.6423 & 71.8818 & 3.8484 & 0.078 & 0.043 & -56.7107 & 72.3016 & 60.019 & 16.622 & $\\dots$ \\\\\n",
       "\t21 & 86.0486 & 21.8287 & 3.3587 & 0.2369 & 0.1662 & -58.7854 & 57.8212 & -18.8093 & 2.005 & $\\dots$ \\\\\n",
       "\t22 & 90.5299 & 17.8721 & 3.033 & 0.2122 & 0.108 & -57.417 & 84.6189 & 14.9662 & 2.039 & $\\dots$ \\\\\n",
       "\t23 & 20.3836 & 9.0462 & 2.3365 & 0.6359 & 0.3894 & 22.27 & 12.9487 & -2.0403 & 43.0032 & $\\dots$ \\\\\n",
       "\t24 & 87.2384 & 27.935 & 2.8848 & 0.3155 & 0.1806 & -18.2102 & 66.6867 & -11.3438 & 4.4265 & $\\dots$ \\\\\n",
       "\t25 & 107.338 & 29.1356 & 3.5265 & 0.1315 & 0.0683 & -47.1175 & 89.5136 & -20.0479 & 3.312 & $\\dots$ \\\\\n",
       "\t26 & 27.2304 & 19.2817 & 2.6375 & 0.371 & 0.2039 & 23.0406 & 23.3428 & 9.7216 & 77.5379 & $\\dots$ \\\\\n",
       "\t27 & 26.7065 & 18.907 & 2.6781 & 0.4281 & 0.2214 & 9.1616 & 18.6858 & -11.6888 & 26.881 & $\\dots$ \\\\\n",
       "\t28 & 23.5647 & 9.9926 & 2.2095 & 0.5679 & 0.3364 & 30.0056 & -13.8665 & -8.26 & 26.5328 & $\\dots$ \\\\\n",
       "\t29 & 34.7486 & 19.2286 & 2.5629 & 0.3666 & 0.1984 & 30.3637 & -16.3092 & 14.3186 & 1.521 & $\\dots$ \\\\\n",
       "\t30 & 50.4829 & 25.9699 & 3.3194 & 0.1941 & 0.1133 & 32.1193 & 39.0162 & -18.1839 & 22.471 & $\\dots$ \\\\\n",
       "\t$\\dots$ & $\\dots$ & $\\dots$ & $\\dots$ & $\\dots$ & $\\dots$ & $\\dots$ & $\\dots$ & $\\dots$ & $\\dots$ &  \\\\\n",
       "\\end{tabular}\n"
      ],
      "text/plain": [
       "19019×11 DataFrame. Omitted printing of 5 columns\n",
       "│ Row   │ 28.7967 │ 16.0021 │ 2.6449  │ 0.3918  │ 0.1982  │ 27.7004  │\n",
       "│       │ \u001b[90mFloat64\u001b[39m │ \u001b[90mFloat64\u001b[39m │ \u001b[90mFloat64\u001b[39m │ \u001b[90mFloat64\u001b[39m │ \u001b[90mFloat64\u001b[39m │ \u001b[90mFloat64\u001b[39m  │\n",
       "├───────┼─────────┼─────────┼─────────┼─────────┼─────────┼──────────┤\n",
       "│ 1     │ 31.6036 │ 11.7235 │ 2.5185  │ 0.5303  │ 0.3773  │ 26.2722  │\n",
       "│ 2     │ 162.052 │ 136.031 │ 4.0612  │ 0.0374  │ 0.0187  │ 116.741  │\n",
       "│ 3     │ 23.8172 │ 9.5728  │ 2.3385  │ 0.6147  │ 0.3922  │ 27.2107  │\n",
       "│ 4     │ 75.1362 │ 30.9205 │ 3.1611  │ 0.3168  │ 0.1832  │ -5.5277  │\n",
       "│ 5     │ 51.624  │ 21.1502 │ 2.9085  │ 0.242   │ 0.134   │ 50.8761  │\n",
       "│ 6     │ 48.2468 │ 17.3565 │ 3.0332  │ 0.2529  │ 0.1515  │ 8.573    │\n",
       "│ 7     │ 26.7897 │ 13.7595 │ 2.5521  │ 0.4236  │ 0.2174  │ 29.6339  │\n",
       "│ 8     │ 96.2327 │ 46.5165 │ 4.154   │ 0.0779  │ 0.039   │ 110.355  │\n",
       "│ 9     │ 46.7619 │ 15.1993 │ 2.5786  │ 0.3377  │ 0.1913  │ 24.7548  │\n",
       "│ 10    │ 62.7766 │ 29.9104 │ 3.3331  │ 0.2475  │ 0.1261  │ -33.9065 │\n",
       "⋮\n",
       "│ 19009 │ 39.5223 │ 18.6327 │ 2.8341  │ 0.2462  │ 0.1414  │ 24.1819  │\n",
       "│ 19010 │ 32.4902 │ 10.6723 │ 2.4742  │ 0.4664  │ 0.2735  │ -27.0097 │\n",
       "│ 19011 │ 79.5528 │ 44.9929 │ 3.5488  │ 0.1656  │ 0.09    │ -39.6213 │\n",
       "│ 19012 │ 31.8373 │ 13.8734 │ 2.8251  │ 0.4169  │ 0.1988  │ -16.4919 │\n",
       "│ 19013 │ 182.5   │ 76.5568 │ 3.6872  │ 0.1123  │ 0.0666  │ 192.268  │\n",
       "│ 19014 │ 43.298  │ 17.3545 │ 2.8307  │ 0.2877  │ 0.1646  │ -60.1842 │\n",
       "│ 19015 │ 21.3846 │ 10.917  │ 2.6161  │ 0.5857  │ 0.3934  │ 15.2618  │\n",
       "│ 19016 │ 28.9452 │ 6.702   │ 2.2672  │ 0.5351  │ 0.2784  │ 37.0816  │\n",
       "│ 19017 │ 75.4455 │ 47.5305 │ 3.4483  │ 0.1417  │ 0.0549  │ -9.3561  │\n",
       "│ 19018 │ 120.513 │ 76.9018 │ 3.9939  │ 0.0944  │ 0.0683  │ 5.8043   │\n",
       "│ 19019 │ 187.181 │ 53.0014 │ 3.2093  │ 0.2876  │ 0.1539  │ -167.313 │"
      ]
     },
     "execution_count": 91,
     "metadata": {},
     "output_type": "execute_result"
    }
   ],
   "source": [
    "using DataFrames\n",
    "\n",
    "# Create a dataframe out of the CSV data object\n",
    "data = DataFrame(data)"
   ]
  },
  {
   "cell_type": "code",
   "execution_count": 92,
   "metadata": {},
   "outputs": [
    {
     "data": {
      "text/html": [
       "<table class=\"data-frame\"><thead><tr><th></th><th>28.7967</th><th>16.0021</th><th>2.6449</th><th>0.3918</th><th>0.1982</th><th>27.7004</th><th>22.011</th><th>-8.2027</th><th>40.092</th></tr><tr><th></th><th>Float64</th><th>Float64</th><th>Float64</th><th>Float64</th><th>Float64</th><th>Float64</th><th>Float64</th><th>Float64</th><th>Float64</th></tr></thead><tbody><p>19,019 rows × 10 columns (omitted printing of 1 columns)</p><tr><th>1</th><td>31.6036</td><td>11.7235</td><td>2.5185</td><td>0.5303</td><td>0.3773</td><td>26.2722</td><td>23.8238</td><td>-9.9574</td><td>6.3609</td></tr><tr><th>2</th><td>162.052</td><td>136.031</td><td>4.0612</td><td>0.0374</td><td>0.0187</td><td>116.741</td><td>-64.858</td><td>-45.216</td><td>76.96</td></tr><tr><th>3</th><td>23.8172</td><td>9.5728</td><td>2.3385</td><td>0.6147</td><td>0.3922</td><td>27.2107</td><td>-6.4633</td><td>-7.1513</td><td>10.449</td></tr><tr><th>4</th><td>75.1362</td><td>30.9205</td><td>3.1611</td><td>0.3168</td><td>0.1832</td><td>-5.5277</td><td>28.5525</td><td>21.8393</td><td>4.648</td></tr><tr><th>5</th><td>51.624</td><td>21.1502</td><td>2.9085</td><td>0.242</td><td>0.134</td><td>50.8761</td><td>43.1887</td><td>9.8145</td><td>3.613</td></tr><tr><th>6</th><td>48.2468</td><td>17.3565</td><td>3.0332</td><td>0.2529</td><td>0.1515</td><td>8.573</td><td>38.0957</td><td>10.5868</td><td>4.792</td></tr><tr><th>7</th><td>26.7897</td><td>13.7595</td><td>2.5521</td><td>0.4236</td><td>0.2174</td><td>29.6339</td><td>20.456</td><td>-2.9292</td><td>0.812</td></tr><tr><th>8</th><td>96.2327</td><td>46.5165</td><td>4.154</td><td>0.0779</td><td>0.039</td><td>110.355</td><td>85.0486</td><td>43.1844</td><td>4.854</td></tr><tr><th>9</th><td>46.7619</td><td>15.1993</td><td>2.5786</td><td>0.3377</td><td>0.1913</td><td>24.7548</td><td>43.8771</td><td>-6.6812</td><td>7.875</td></tr><tr><th>10</th><td>62.7766</td><td>29.9104</td><td>3.3331</td><td>0.2475</td><td>0.1261</td><td>-33.9065</td><td>57.5848</td><td>23.771</td><td>9.9144</td></tr><tr><th>11</th><td>18.8562</td><td>16.46</td><td>2.4385</td><td>0.5282</td><td>0.2933</td><td>25.1269</td><td>-6.5401</td><td>-16.9327</td><td>11.461</td></tr><tr><th>12</th><td>45.6321</td><td>22.71</td><td>3.0441</td><td>0.2213</td><td>0.1215</td><td>-18.3986</td><td>-20.6427</td><td>-14.3164</td><td>0.3822</td></tr><tr><th>13</th><td>33.1818</td><td>12.4655</td><td>2.4955</td><td>0.4696</td><td>0.2412</td><td>-17.0341</td><td>-22.0762</td><td>-8.1803</td><td>41.929</td></tr><tr><th>14</th><td>60.458</td><td>33.1061</td><td>3.1944</td><td>0.4679</td><td>0.2464</td><td>14.3</td><td>-33.8765</td><td>28.8315</td><td>8.292</td></tr><tr><th>15</th><td>29.4741</td><td>22.4581</td><td>2.6258</td><td>0.3077</td><td>0.174</td><td>18.1242</td><td>22.7035</td><td>13.1673</td><td>48.0364</td></tr><tr><th>16</th><td>36.1741</td><td>17.6865</td><td>2.946</td><td>0.2865</td><td>0.1591</td><td>-4.7746</td><td>-18.9697</td><td>11.3256</td><td>0.254</td></tr><tr><th>17</th><td>46.2915</td><td>16.0328</td><td>2.7756</td><td>0.3403</td><td>0.192</td><td>49.9706</td><td>33.3653</td><td>-12.7979</td><td>38.707</td></tr><tr><th>18</th><td>46.0588</td><td>18.787</td><td>3.2217</td><td>0.2431</td><td>0.1504</td><td>49.2704</td><td>34.1066</td><td>10.7955</td><td>8.686</td></tr><tr><th>19</th><td>44.7394</td><td>15.6364</td><td>2.638</td><td>0.3107</td><td>0.1715</td><td>14.043</td><td>37.2246</td><td>12.4183</td><td>3.251</td></tr><tr><th>20</th><td>91.6423</td><td>71.8818</td><td>3.8484</td><td>0.078</td><td>0.043</td><td>-56.7107</td><td>72.3016</td><td>60.019</td><td>16.622</td></tr><tr><th>21</th><td>86.0486</td><td>21.8287</td><td>3.3587</td><td>0.2369</td><td>0.1662</td><td>-58.7854</td><td>57.8212</td><td>-18.8093</td><td>2.005</td></tr><tr><th>22</th><td>90.5299</td><td>17.8721</td><td>3.033</td><td>0.2122</td><td>0.108</td><td>-57.417</td><td>84.6189</td><td>14.9662</td><td>2.039</td></tr><tr><th>23</th><td>20.3836</td><td>9.0462</td><td>2.3365</td><td>0.6359</td><td>0.3894</td><td>22.27</td><td>12.9487</td><td>-2.0403</td><td>43.0032</td></tr><tr><th>24</th><td>87.2384</td><td>27.935</td><td>2.8848</td><td>0.3155</td><td>0.1806</td><td>-18.2102</td><td>66.6867</td><td>-11.3438</td><td>4.4265</td></tr><tr><th>25</th><td>107.338</td><td>29.1356</td><td>3.5265</td><td>0.1315</td><td>0.0683</td><td>-47.1175</td><td>89.5136</td><td>-20.0479</td><td>3.312</td></tr><tr><th>26</th><td>27.2304</td><td>19.2817</td><td>2.6375</td><td>0.371</td><td>0.2039</td><td>23.0406</td><td>23.3428</td><td>9.7216</td><td>77.5379</td></tr><tr><th>27</th><td>26.7065</td><td>18.907</td><td>2.6781</td><td>0.4281</td><td>0.2214</td><td>9.1616</td><td>18.6858</td><td>-11.6888</td><td>26.881</td></tr><tr><th>28</th><td>23.5647</td><td>9.9926</td><td>2.2095</td><td>0.5679</td><td>0.3364</td><td>30.0056</td><td>-13.8665</td><td>-8.26</td><td>26.5328</td></tr><tr><th>29</th><td>34.7486</td><td>19.2286</td><td>2.5629</td><td>0.3666</td><td>0.1984</td><td>30.3637</td><td>-16.3092</td><td>14.3186</td><td>1.521</td></tr><tr><th>30</th><td>50.4829</td><td>25.9699</td><td>3.3194</td><td>0.1941</td><td>0.1133</td><td>32.1193</td><td>39.0162</td><td>-18.1839</td><td>22.471</td></tr><tr><th>&vellip;</th><td>&vellip;</td><td>&vellip;</td><td>&vellip;</td><td>&vellip;</td><td>&vellip;</td><td>&vellip;</td><td>&vellip;</td><td>&vellip;</td><td>&vellip;</td></tr></tbody></table>"
      ],
      "text/latex": [
       "\\begin{tabular}{r|cccccccccc}\n",
       "\t& 28.7967 & 16.0021 & 2.6449 & 0.3918 & 0.1982 & 27.7004 & 22.011 & -8.2027 & 40.092 & \\\\\n",
       "\t\\hline\n",
       "\t& Float64 & Float64 & Float64 & Float64 & Float64 & Float64 & Float64 & Float64 & Float64 & \\\\\n",
       "\t\\hline\n",
       "\t1 & 31.6036 & 11.7235 & 2.5185 & 0.5303 & 0.3773 & 26.2722 & 23.8238 & -9.9574 & 6.3609 & $\\dots$ \\\\\n",
       "\t2 & 162.052 & 136.031 & 4.0612 & 0.0374 & 0.0187 & 116.741 & -64.858 & -45.216 & 76.96 & $\\dots$ \\\\\n",
       "\t3 & 23.8172 & 9.5728 & 2.3385 & 0.6147 & 0.3922 & 27.2107 & -6.4633 & -7.1513 & 10.449 & $\\dots$ \\\\\n",
       "\t4 & 75.1362 & 30.9205 & 3.1611 & 0.3168 & 0.1832 & -5.5277 & 28.5525 & 21.8393 & 4.648 & $\\dots$ \\\\\n",
       "\t5 & 51.624 & 21.1502 & 2.9085 & 0.242 & 0.134 & 50.8761 & 43.1887 & 9.8145 & 3.613 & $\\dots$ \\\\\n",
       "\t6 & 48.2468 & 17.3565 & 3.0332 & 0.2529 & 0.1515 & 8.573 & 38.0957 & 10.5868 & 4.792 & $\\dots$ \\\\\n",
       "\t7 & 26.7897 & 13.7595 & 2.5521 & 0.4236 & 0.2174 & 29.6339 & 20.456 & -2.9292 & 0.812 & $\\dots$ \\\\\n",
       "\t8 & 96.2327 & 46.5165 & 4.154 & 0.0779 & 0.039 & 110.355 & 85.0486 & 43.1844 & 4.854 & $\\dots$ \\\\\n",
       "\t9 & 46.7619 & 15.1993 & 2.5786 & 0.3377 & 0.1913 & 24.7548 & 43.8771 & -6.6812 & 7.875 & $\\dots$ \\\\\n",
       "\t10 & 62.7766 & 29.9104 & 3.3331 & 0.2475 & 0.1261 & -33.9065 & 57.5848 & 23.771 & 9.9144 & $\\dots$ \\\\\n",
       "\t11 & 18.8562 & 16.46 & 2.4385 & 0.5282 & 0.2933 & 25.1269 & -6.5401 & -16.9327 & 11.461 & $\\dots$ \\\\\n",
       "\t12 & 45.6321 & 22.71 & 3.0441 & 0.2213 & 0.1215 & -18.3986 & -20.6427 & -14.3164 & 0.3822 & $\\dots$ \\\\\n",
       "\t13 & 33.1818 & 12.4655 & 2.4955 & 0.4696 & 0.2412 & -17.0341 & -22.0762 & -8.1803 & 41.929 & $\\dots$ \\\\\n",
       "\t14 & 60.458 & 33.1061 & 3.1944 & 0.4679 & 0.2464 & 14.3 & -33.8765 & 28.8315 & 8.292 & $\\dots$ \\\\\n",
       "\t15 & 29.4741 & 22.4581 & 2.6258 & 0.3077 & 0.174 & 18.1242 & 22.7035 & 13.1673 & 48.0364 & $\\dots$ \\\\\n",
       "\t16 & 36.1741 & 17.6865 & 2.946 & 0.2865 & 0.1591 & -4.7746 & -18.9697 & 11.3256 & 0.254 & $\\dots$ \\\\\n",
       "\t17 & 46.2915 & 16.0328 & 2.7756 & 0.3403 & 0.192 & 49.9706 & 33.3653 & -12.7979 & 38.707 & $\\dots$ \\\\\n",
       "\t18 & 46.0588 & 18.787 & 3.2217 & 0.2431 & 0.1504 & 49.2704 & 34.1066 & 10.7955 & 8.686 & $\\dots$ \\\\\n",
       "\t19 & 44.7394 & 15.6364 & 2.638 & 0.3107 & 0.1715 & 14.043 & 37.2246 & 12.4183 & 3.251 & $\\dots$ \\\\\n",
       "\t20 & 91.6423 & 71.8818 & 3.8484 & 0.078 & 0.043 & -56.7107 & 72.3016 & 60.019 & 16.622 & $\\dots$ \\\\\n",
       "\t21 & 86.0486 & 21.8287 & 3.3587 & 0.2369 & 0.1662 & -58.7854 & 57.8212 & -18.8093 & 2.005 & $\\dots$ \\\\\n",
       "\t22 & 90.5299 & 17.8721 & 3.033 & 0.2122 & 0.108 & -57.417 & 84.6189 & 14.9662 & 2.039 & $\\dots$ \\\\\n",
       "\t23 & 20.3836 & 9.0462 & 2.3365 & 0.6359 & 0.3894 & 22.27 & 12.9487 & -2.0403 & 43.0032 & $\\dots$ \\\\\n",
       "\t24 & 87.2384 & 27.935 & 2.8848 & 0.3155 & 0.1806 & -18.2102 & 66.6867 & -11.3438 & 4.4265 & $\\dots$ \\\\\n",
       "\t25 & 107.338 & 29.1356 & 3.5265 & 0.1315 & 0.0683 & -47.1175 & 89.5136 & -20.0479 & 3.312 & $\\dots$ \\\\\n",
       "\t26 & 27.2304 & 19.2817 & 2.6375 & 0.371 & 0.2039 & 23.0406 & 23.3428 & 9.7216 & 77.5379 & $\\dots$ \\\\\n",
       "\t27 & 26.7065 & 18.907 & 2.6781 & 0.4281 & 0.2214 & 9.1616 & 18.6858 & -11.6888 & 26.881 & $\\dots$ \\\\\n",
       "\t28 & 23.5647 & 9.9926 & 2.2095 & 0.5679 & 0.3364 & 30.0056 & -13.8665 & -8.26 & 26.5328 & $\\dots$ \\\\\n",
       "\t29 & 34.7486 & 19.2286 & 2.5629 & 0.3666 & 0.1984 & 30.3637 & -16.3092 & 14.3186 & 1.521 & $\\dots$ \\\\\n",
       "\t30 & 50.4829 & 25.9699 & 3.3194 & 0.1941 & 0.1133 & 32.1193 & 39.0162 & -18.1839 & 22.471 & $\\dots$ \\\\\n",
       "\t$\\dots$ & $\\dots$ & $\\dots$ & $\\dots$ & $\\dots$ & $\\dots$ & $\\dots$ & $\\dots$ & $\\dots$ & $\\dots$ &  \\\\\n",
       "\\end{tabular}\n"
      ],
      "text/plain": [
       "19019×10 DataFrame. Omitted printing of 4 columns\n",
       "│ Row   │ 28.7967 │ 16.0021 │ 2.6449  │ 0.3918  │ 0.1982  │ 27.7004  │\n",
       "│       │ \u001b[90mFloat64\u001b[39m │ \u001b[90mFloat64\u001b[39m │ \u001b[90mFloat64\u001b[39m │ \u001b[90mFloat64\u001b[39m │ \u001b[90mFloat64\u001b[39m │ \u001b[90mFloat64\u001b[39m  │\n",
       "├───────┼─────────┼─────────┼─────────┼─────────┼─────────┼──────────┤\n",
       "│ 1     │ 31.6036 │ 11.7235 │ 2.5185  │ 0.5303  │ 0.3773  │ 26.2722  │\n",
       "│ 2     │ 162.052 │ 136.031 │ 4.0612  │ 0.0374  │ 0.0187  │ 116.741  │\n",
       "│ 3     │ 23.8172 │ 9.5728  │ 2.3385  │ 0.6147  │ 0.3922  │ 27.2107  │\n",
       "│ 4     │ 75.1362 │ 30.9205 │ 3.1611  │ 0.3168  │ 0.1832  │ -5.5277  │\n",
       "│ 5     │ 51.624  │ 21.1502 │ 2.9085  │ 0.242   │ 0.134   │ 50.8761  │\n",
       "│ 6     │ 48.2468 │ 17.3565 │ 3.0332  │ 0.2529  │ 0.1515  │ 8.573    │\n",
       "│ 7     │ 26.7897 │ 13.7595 │ 2.5521  │ 0.4236  │ 0.2174  │ 29.6339  │\n",
       "│ 8     │ 96.2327 │ 46.5165 │ 4.154   │ 0.0779  │ 0.039   │ 110.355  │\n",
       "│ 9     │ 46.7619 │ 15.1993 │ 2.5786  │ 0.3377  │ 0.1913  │ 24.7548  │\n",
       "│ 10    │ 62.7766 │ 29.9104 │ 3.3331  │ 0.2475  │ 0.1261  │ -33.9065 │\n",
       "⋮\n",
       "│ 19009 │ 39.5223 │ 18.6327 │ 2.8341  │ 0.2462  │ 0.1414  │ 24.1819  │\n",
       "│ 19010 │ 32.4902 │ 10.6723 │ 2.4742  │ 0.4664  │ 0.2735  │ -27.0097 │\n",
       "│ 19011 │ 79.5528 │ 44.9929 │ 3.5488  │ 0.1656  │ 0.09    │ -39.6213 │\n",
       "│ 19012 │ 31.8373 │ 13.8734 │ 2.8251  │ 0.4169  │ 0.1988  │ -16.4919 │\n",
       "│ 19013 │ 182.5   │ 76.5568 │ 3.6872  │ 0.1123  │ 0.0666  │ 192.268  │\n",
       "│ 19014 │ 43.298  │ 17.3545 │ 2.8307  │ 0.2877  │ 0.1646  │ -60.1842 │\n",
       "│ 19015 │ 21.3846 │ 10.917  │ 2.6161  │ 0.5857  │ 0.3934  │ 15.2618  │\n",
       "│ 19016 │ 28.9452 │ 6.702   │ 2.2672  │ 0.5351  │ 0.2784  │ 37.0816  │\n",
       "│ 19017 │ 75.4455 │ 47.5305 │ 3.4483  │ 0.1417  │ 0.0549  │ -9.3561  │\n",
       "│ 19018 │ 120.513 │ 76.9018 │ 3.9939  │ 0.0944  │ 0.0683  │ 5.8043   │\n",
       "│ 19019 │ 187.181 │ 53.0014 │ 3.2093  │ 0.2876  │ 0.1539  │ -167.313 │"
      ]
     },
     "execution_count": 92,
     "metadata": {},
     "output_type": "execute_result"
    }
   ],
   "source": [
    "# Set I to hold all of the numeric columns\n",
    "# Al columns of the data matrix, apart from the last one and convert everything into a Float. Result = 10-dim Array of Float numbers\n",
    "I = data[:, 1:(end-1)]"
   ]
  },
  {
   "cell_type": "code",
   "execution_count": 95,
   "metadata": {},
   "outputs": [
    {
     "data": {
      "text/plain": [
       "19019-element PooledArrays.PooledArray{String,UInt32,1,Array{UInt32,1}}:\n",
       " \"g\"\n",
       " \"g\"\n",
       " \"g\"\n",
       " \"g\"\n",
       " \"g\"\n",
       " \"g\"\n",
       " \"g\"\n",
       " \"g\"\n",
       " \"g\"\n",
       " \"g\"\n",
       " \"g\"\n",
       " \"g\"\n",
       " \"g\"\n",
       " ⋮  \n",
       " \"h\"\n",
       " \"h\"\n",
       " \"h\"\n",
       " \"h\"\n",
       " \"h\"\n",
       " \"h\"\n",
       " \"h\"\n",
       " \"h\"\n",
       " \"h\"\n",
       " \"h\"\n",
       " \"h\"\n",
       " \"h\""
      ]
     },
     "execution_count": 95,
     "metadata": {},
     "output_type": "execute_result"
    }
   ],
   "source": [
    "# Set O variable to hold the column of labels. \"g\" for \"gamma\" and \"h\" for \"hadron\"\n",
    "O = data[:, end]"
   ]
  },
  {
   "cell_type": "code",
   "execution_count": null,
   "metadata": {},
   "outputs": [],
   "source": []
  }
 ],
 "metadata": {
  "kernelspec": {
   "display_name": "Julia 1.1.1",
   "language": "julia",
   "name": "julia-1.1"
  },
  "language_info": {
   "file_extension": ".jl",
   "mimetype": "application/julia",
   "name": "julia",
   "version": "1.1.1"
  }
 },
 "nbformat": 4,
 "nbformat_minor": 2
}
